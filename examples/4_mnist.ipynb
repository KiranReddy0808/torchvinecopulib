{
 "cells": [
  {
   "cell_type": "code",
   "execution_count": null,
   "id": "433bcaab",
   "metadata": {},
   "outputs": [],
   "source": [
    "# mamba create -n torchvinecopulib python=3.12 -y\n",
    "# mamba activate torchvinecopulib\n",
    "# mamba install -c conda-forge uv\n",
    "# # mamba install -c conda-forge \\\n",
    "# #     \"numpy>=2\" \\\n",
    "# #     scipy \\\n",
    "# #     coverage \\\n",
    "# #     datasets \\\n",
    "# #     furo \\\n",
    "# #     ipykernel \\\n",
    "# #     kagglehub \\\n",
    "# #     lightgbm \\\n",
    "# #     matplotlib \\\n",
    "# #     pandas \\\n",
    "# #     pot \\\n",
    "# #     pytest \\\n",
    "# #     python-dotenv \\\n",
    "# #     pyvinecopulib \\\n",
    "# #     ruff \\\n",
    "# #     scikit-learn \\\n",
    "# #     sklearn-quantile \\\n",
    "# #     sphinx \\\n",
    "# #     tokenize-rt \\\n",
    "# #     ucimlrepo \\\n",
    "# #     yfinance \\\n",
    "# #     uv\n",
    "\n",
    "# uv pip install -e \".[cu124]\"\n",
    "# uv pip install lightning torchvision ipykernel seaborn"
   ]
  },
  {
   "cell_type": "code",
   "execution_count": null,
   "id": "0cb48a6d",
   "metadata": {},
   "outputs": [],
   "source": [
    "import os\n",
    "from dataclasses import dataclass\n",
    "\n",
    "import numpy as np\n",
    "import pandas as pd\n",
    "import pytorch_lightning as pl\n",
    "import pyvinecopulib as pvc\n",
    "import seaborn as sns\n",
    "import torch\n",
    "from pytorch_lightning.callbacks import ModelCheckpoint\n",
    "from pytorch_lightning.loggers import CSVLogger\n",
    "from torch import nn\n",
    "from torch.nn import functional as F\n",
    "from torch.utils.data import DataLoader, random_split\n",
    "from torchvision import transforms\n",
    "from torchvision.datasets import MNIST\n",
    "\n",
    "import torchvinecopulib as tvc\n",
    "\n",
    "\n",
    "@dataclass\n",
    "class Config:\n",
    "    data_dir: str = os.environ.get(\"PATH_DATASETS\", \".\")\n",
    "    save_dir: str = \"logs/\"\n",
    "    batch_size: int = 256 if torch.cuda.is_available() else 64\n",
    "    max_epochs: int = 3\n",
    "    accelerator: str = \"auto\"\n",
    "    devices: int = 1\n",
    "\n",
    "\n",
    "config = Config()"
   ]
  },
  {
   "cell_type": "code",
   "execution_count": 9,
   "id": "8f39e102",
   "metadata": {},
   "outputs": [],
   "source": [
    "class LitMNISTAutoencoder(pl.LightningModule):\n",
    "    def __init__(\n",
    "        self,\n",
    "        data_dir: str = config.data_dir,\n",
    "        hidden_size: int = 64,\n",
    "        learning_rate: float = 2e-4,\n",
    "    ):\n",
    "        super().__init__()\n",
    "        self.data_dir = data_dir\n",
    "        self.hidden_size = hidden_size\n",
    "        self.learning_rate = learning_rate\n",
    "\n",
    "        self.dims = (1, 28, 28)\n",
    "        channels, width, height = self.dims\n",
    "        flat_dim = channels * width * height\n",
    "\n",
    "        self.transform = transforms.Compose(\n",
    "            [transforms.ToTensor(), transforms.Normalize((0.1307,), (0.3081,))]\n",
    "        )\n",
    "\n",
    "        # Encoder: flatten → hidden → latent\n",
    "        self.encoder = nn.Sequential(\n",
    "            nn.Flatten(),\n",
    "            nn.Linear(flat_dim, hidden_size),\n",
    "            nn.ReLU(),\n",
    "            nn.Linear(hidden_size, hidden_size // 2),\n",
    "            nn.ReLU(),\n",
    "            nn.Linear(hidden_size // 2, 10),\n",
    "        )\n",
    "\n",
    "        # Decoder: latent → hidden → image\n",
    "        self.decoder = nn.Sequential(\n",
    "            nn.Linear(10, hidden_size // 2),\n",
    "            nn.ReLU(),\n",
    "            nn.Linear(hidden_size // 2, hidden_size),\n",
    "            nn.ReLU(),\n",
    "            nn.Linear(hidden_size, flat_dim),\n",
    "            nn.Sigmoid(),  # Ensure output in [0,1] range\n",
    "        )\n",
    "\n",
    "    def forward(self, x: torch.Tensor) -> torch.Tensor:\n",
    "        z = self.encoder(x)\n",
    "        x_hat = self.decoder(z)\n",
    "        return x_hat.view(-1, *self.dims)\n",
    "\n",
    "    def training_step(self, batch, batch_idx):\n",
    "        x, _ = batch\n",
    "        x_hat = self(x)\n",
    "        loss = F.mse_loss(x_hat, x)\n",
    "        self.log(\"train_loss\", loss, prog_bar=True)\n",
    "        return loss\n",
    "\n",
    "    def validation_step(self, batch, batch_idx):\n",
    "        x, _ = batch\n",
    "        x_hat = self(x)\n",
    "        loss = F.mse_loss(x_hat, x)\n",
    "        self.log(\"val_loss\", loss, prog_bar=True)\n",
    "\n",
    "    def test_step(self, batch, batch_idx):\n",
    "        x, _ = batch\n",
    "        x_hat = self(x)\n",
    "        loss = F.mse_loss(x_hat, x)\n",
    "        self.log(\"test_loss\", loss, prog_bar=True)\n",
    "\n",
    "    def configure_optimizers(self):\n",
    "        return torch.optim.Adam(self.parameters(), lr=self.learning_rate)\n",
    "\n",
    "    def prepare_data(self):\n",
    "        MNIST(self.data_dir, train=True, download=True)\n",
    "        MNIST(self.data_dir, train=False, download=True)\n",
    "\n",
    "    def setup(self, stage=None):\n",
    "        if stage == \"fit\" or stage is None:\n",
    "            mnist_full = MNIST(self.data_dir, train=True, transform=self.transform)\n",
    "            self.mnist_train, self.mnist_val = random_split(mnist_full, [55000, 5000])\n",
    "        if stage == \"test\" or stage is None:\n",
    "            self.mnist_test = MNIST(self.data_dir, train=False, transform=self.transform)\n",
    "\n",
    "    def train_dataloader(self):\n",
    "        return DataLoader(self.mnist_train, batch_size=config.batch_size)\n",
    "\n",
    "    def val_dataloader(self):\n",
    "        return DataLoader(self.mnist_val, batch_size=config.batch_size)\n",
    "\n",
    "    def test_dataloader(self):\n",
    "        return DataLoader(self.mnist_test, batch_size=config.batch_size)\n"
   ]
  },
  {
   "cell_type": "code",
   "execution_count": 10,
   "id": "de760b55",
   "metadata": {},
   "outputs": [
    {
     "name": "stderr",
     "output_type": "stream",
     "text": [
      "GPU available: True (cuda), used: True\n",
      "TPU available: False, using: 0 TPU cores\n",
      "HPU available: False, using: 0 HPUs\n"
     ]
    },
    {
     "name": "stderr",
     "output_type": "stream",
     "text": [
      "/home/thibault/miniforge3/envs/torchvinecopulib/lib/python3.12/site-packages/pytorch_lightning/callbacks/model_checkpoint.py:654: Checkpoint directory /home/thibault/torchvinecopulib/examples/logs exists and is not empty.\n",
      "LOCAL_RANK: 0 - CUDA_VISIBLE_DEVICES: [0]\n",
      "\n",
      "  | Name    | Type       | Params | Mode \n",
      "-----------------------------------------------\n",
      "0 | encoder | Sequential | 52.6 K | train\n",
      "1 | decoder | Sequential | 53.4 K | train\n",
      "-----------------------------------------------\n",
      "106 K     Trainable params\n",
      "0         Non-trainable params\n",
      "106 K     Total params\n",
      "0.424     Total estimated model params size (MB)\n",
      "14        Modules in train mode\n",
      "0         Modules in eval mode\n"
     ]
    },
    {
     "name": "stdout",
     "output_type": "stream",
     "text": [
      "Sanity Checking: |          | 0/? [00:00<?, ?it/s]"
     ]
    },
    {
     "name": "stderr",
     "output_type": "stream",
     "text": [
      "/home/thibault/miniforge3/envs/torchvinecopulib/lib/python3.12/site-packages/pytorch_lightning/trainer/connectors/data_connector.py:425: The 'val_dataloader' does not have many workers which may be a bottleneck. Consider increasing the value of the `num_workers` argument` to `num_workers=15` in the `DataLoader` to improve performance.\n"
     ]
    },
    {
     "name": "stdout",
     "output_type": "stream",
     "text": [
      "                                                                           "
     ]
    },
    {
     "name": "stderr",
     "output_type": "stream",
     "text": [
      "/home/thibault/miniforge3/envs/torchvinecopulib/lib/python3.12/site-packages/pytorch_lightning/trainer/connectors/data_connector.py:425: The 'train_dataloader' does not have many workers which may be a bottleneck. Consider increasing the value of the `num_workers` argument` to `num_workers=15` in the `DataLoader` to improve performance.\n"
     ]
    },
    {
     "name": "stdout",
     "output_type": "stream",
     "text": [
      "Epoch 2: 100%|██████████| 215/215 [00:09<00:00, 23.83it/s, v_num=2, train_loss=0.718, val_loss=0.706]"
     ]
    },
    {
     "name": "stderr",
     "output_type": "stream",
     "text": [
      "`Trainer.fit` stopped: `max_epochs=3` reached.\n"
     ]
    },
    {
     "name": "stdout",
     "output_type": "stream",
     "text": [
      "Epoch 2: 100%|██████████| 215/215 [00:09<00:00, 23.80it/s, v_num=2, train_loss=0.718, val_loss=0.706]\n"
     ]
    }
   ],
   "source": [
    "# Instantiate the LitMNISTAutoencoder\n",
    "model = LitMNISTAutoencoder()\n",
    "\n",
    "# Instantiate a checkpoint callback\n",
    "checkpoint_callback = ModelCheckpoint(\n",
    "    monitor=\"val_loss\",  # metric to monitor\n",
    "    mode=\"min\",  # \"min\" for val_loss, \"max\" for accuracy\n",
    "    save_top_k=1,  # only save the best model\n",
    "    save_last=True,  # also save the last epoch\n",
    "    dirpath=config.save_dir,  # where to save\n",
    "    filename=\"{epoch:02d}-{val_loss:.4f}\",  # optional: filename format\n",
    ")\n",
    "\n",
    "# Instantiate a PyTorch Lightning trainer with the specified configuration\n",
    "trainer = pl.Trainer(\n",
    "    accelerator=config.accelerator,\n",
    "    devices=config.devices,\n",
    "    max_epochs=config.max_epochs,\n",
    "    logger=CSVLogger(save_dir=config.save_dir),\n",
    "    callbacks=[checkpoint_callback],\n",
    ")\n",
    "\n",
    "# Train the model using the trainer\n",
    "trainer.fit(model)"
   ]
  },
  {
   "cell_type": "code",
   "execution_count": 11,
   "id": "35d150a5",
   "metadata": {},
   "outputs": [
    {
     "name": "stderr",
     "output_type": "stream",
     "text": [
      "Restoring states from the checkpoint path at /home/thibault/torchvinecopulib/examples/logs/epoch=02-val_loss=0.7063.ckpt\n",
      "LOCAL_RANK: 0 - CUDA_VISIBLE_DEVICES: [0]\n",
      "Loaded model weights from the checkpoint at /home/thibault/torchvinecopulib/examples/logs/epoch=02-val_loss=0.7063.ckpt\n",
      "/home/thibault/miniforge3/envs/torchvinecopulib/lib/python3.12/site-packages/pytorch_lightning/trainer/connectors/data_connector.py:425: The 'test_dataloader' does not have many workers which may be a bottleneck. Consider increasing the value of the `num_workers` argument` to `num_workers=15` in the `DataLoader` to improve performance.\n"
     ]
    },
    {
     "name": "stdout",
     "output_type": "stream",
     "text": [
      "Testing DataLoader 0: 100%|██████████| 40/40 [00:01<00:00, 33.29it/s]\n",
      "────────────────────────────────────────────────────────────────────────────────────────────────────────────────────────\n",
      "       Test metric             DataLoader 0\n",
      "────────────────────────────────────────────────────────────────────────────────────────────────────────────────────────\n",
      "        test_loss           0.7103996872901917\n",
      "────────────────────────────────────────────────────────────────────────────────────────────────────────────────────────\n"
     ]
    },
    {
     "data": {
      "text/plain": [
       "[{'test_loss': 0.7103996872901917}]"
      ]
     },
     "execution_count": 11,
     "metadata": {},
     "output_type": "execute_result"
    }
   ],
   "source": [
    "trainer.test(ckpt_path=\"best\")"
   ]
  },
  {
   "cell_type": "code",
   "execution_count": 16,
   "id": "8d1565c2",
   "metadata": {},
   "outputs": [
    {
     "data": {
      "text/html": [
       "<div>\n",
       "<style scoped>\n",
       "    .dataframe tbody tr th:only-of-type {\n",
       "        vertical-align: middle;\n",
       "    }\n",
       "\n",
       "    .dataframe tbody tr th {\n",
       "        vertical-align: top;\n",
       "    }\n",
       "\n",
       "    .dataframe thead th {\n",
       "        text-align: right;\n",
       "    }\n",
       "</style>\n",
       "<table border=\"1\" class=\"dataframe\">\n",
       "  <thead>\n",
       "    <tr style=\"text-align: right;\">\n",
       "      <th></th>\n",
       "      <th>test_loss</th>\n",
       "      <th>train_loss</th>\n",
       "      <th>val_loss</th>\n",
       "    </tr>\n",
       "    <tr>\n",
       "      <th>epoch</th>\n",
       "      <th></th>\n",
       "      <th></th>\n",
       "      <th></th>\n",
       "    </tr>\n",
       "  </thead>\n",
       "  <tbody>\n",
       "    <tr>\n",
       "      <th>0</th>\n",
       "      <td>NaN</td>\n",
       "      <td>1.151680</td>\n",
       "      <td>NaN</td>\n",
       "    </tr>\n",
       "    <tr>\n",
       "      <th>0</th>\n",
       "      <td>NaN</td>\n",
       "      <td>0.845215</td>\n",
       "      <td>NaN</td>\n",
       "    </tr>\n",
       "    <tr>\n",
       "      <th>0</th>\n",
       "      <td>NaN</td>\n",
       "      <td>0.795708</td>\n",
       "      <td>NaN</td>\n",
       "    </tr>\n",
       "    <tr>\n",
       "      <th>0</th>\n",
       "      <td>NaN</td>\n",
       "      <td>0.791115</td>\n",
       "      <td>NaN</td>\n",
       "    </tr>\n",
       "    <tr>\n",
       "      <th>0</th>\n",
       "      <td>NaN</td>\n",
       "      <td>NaN</td>\n",
       "      <td>0.800101</td>\n",
       "    </tr>\n",
       "  </tbody>\n",
       "</table>\n",
       "</div>"
      ],
      "text/plain": [
       "       test_loss  train_loss  val_loss\n",
       "epoch                                 \n",
       "0            NaN    1.151680       NaN\n",
       "0            NaN    0.845215       NaN\n",
       "0            NaN    0.795708       NaN\n",
       "0            NaN    0.791115       NaN\n",
       "0            NaN         NaN  0.800101"
      ]
     },
     "metadata": {},
     "output_type": "display_data"
    },
    {
     "data": {
      "text/plain": [
       "<seaborn.axisgrid.FacetGrid at 0x7ef4ee2e2870>"
      ]
     },
     "execution_count": 16,
     "metadata": {},
     "output_type": "execute_result"
    },
    {
     "data": {
      "image/png": "[encoded data removed]",
      "text/plain": [
       "<Figure size 616.125x500 with 1 Axes>"
      ]
     },
     "metadata": {},
     "output_type": "display_data"
    }
   ],
   "source": [
    "# Read in the training metrics from the CSV file generated by the logger\n",
    "metrics = pd.read_csv(f\"{trainer.logger.log_dir}/metrics.csv\")\n",
    "\n",
    "# Remove the \"step\" column, which is not needed for our analysis\n",
    "del metrics[\"step\"]\n",
    "\n",
    "# Set the epoch column as the index, for easier plotting\n",
    "metrics.set_index(\"epoch\", inplace=True)\n",
    "\n",
    "# Display the first few rows of the metrics table, excluding any columns with all NaN values\n",
    "display(metrics.dropna(axis=1, how=\"all\").head())\n",
    "\n",
    "# Create a line plot of the training metrics using Seaborn\n",
    "sns.relplot(data=metrics, kind=\"line\")"
   ]
  },
  {
   "cell_type": "code",
   "execution_count": 17,
   "id": "e7b3506f",
   "metadata": {},
   "outputs": [],
   "source": [
    "# last_path = os.path.join(config.save_dir, \"last.ckpt\")  # default naming\n",
    "# Load best checkpoint\n",
    "inference_model = LitMNISTAutoencoder.load_from_checkpoint(\n",
    "    checkpoint_path=checkpoint_callback.best_model_path\n",
    ")\n",
    "inference_model.eval()\n",
    "inference_model.freeze()\n",
    "\n",
    "inference_model.prepare_data()\n",
    "inference_model.setup(stage=\"fit\")  # sets model.mnist_train, model.mnist_val\n",
    "train_loader = model.train_dataloader()"
   ]
  },
  {
   "cell_type": "code",
   "execution_count": 18,
   "id": "e3beb91e",
   "metadata": {},
   "outputs": [],
   "source": [
    "representations = []\n",
    "labels = []\n",
    "\n",
    "for batch in train_loader:\n",
    "    x, y = batch\n",
    "    with torch.no_grad():\n",
    "        z = model.encoder(x)\n",
    "    representations.append(z)\n",
    "    labels.append(y)\n",
    "\n",
    "# Concatenate into a single tensor\n",
    "representations = torch.cat(representations, dim=0)\n",
    "labels = torch.cat(labels, dim=0)"
   ]
  },
  {
   "cell_type": "code",
   "execution_count": 74,
   "id": "aa9a9535",
   "metadata": {},
   "outputs": [
    {
     "name": "stdout",
     "output_type": "stream",
     "text": [
      "Average log-likelihood for class 0: 17.4898 (pvc), 13.8936 (tvc)\n",
      "Average log-likelihood for class 1: 17.9259 (pvc), -0.9413 (tvc)\n",
      "Average log-likelihood for class 2: 15.2141 (pvc), 5.1690 (tvc)\n",
      "Average log-likelihood for class 3: 16.8186 (pvc), 12.2062 (tvc)\n",
      "Average log-likelihood for class 4: 16.7607 (pvc), 10.8216 (tvc)\n",
      "Average log-likelihood for class 5: 16.3845 (pvc), 11.5727 (tvc)\n",
      "Average log-likelihood for class 6: 17.7672 (pvc), 9.2884 (tvc)\n",
      "Average log-likelihood for class 7: 16.3669 (pvc), 7.9551 (tvc)\n",
      "Average log-likelihood for class 8: 17.3657 (pvc), 12.8775 (tvc)\n",
      "Average log-likelihood for class 9: 16.8312 (pvc), 9.8243 (tvc)\n"
     ]
    }
   ],
   "source": [
    "DEVICE = \"cuda\" if torch.cuda.is_available() else \"cpu\"\n",
    "num_step_grid = 128\n",
    "is_cop_scale = False\n",
    "\n",
    "# Convert to numpy\n",
    "reps_np = representations.cpu().numpy()\n",
    "labels_np = labels.cpu().numpy()\n",
    "\n",
    "# Prepare containers\n",
    "class_vines = {}\n",
    "unique_classes = np.unique(labels_np)\n",
    "\n",
    "for cls in unique_classes:\n",
    "    # 1. Select samples for this class\n",
    "    class_mask = labels_np == cls\n",
    "    x_cls = reps_np[class_mask]\n",
    "\n",
    "    # 2. Convert to pseudo-observations\n",
    "    u_cls = pvc.to_pseudo_obs(x_cls)\n",
    "    u_cls_tensor = torch.tensor(u_cls, device=DEVICE)\n",
    "\n",
    "    # 3. Fit vine copula with nonparametric TLL estimator\n",
    "    controls = pvc.FitControlsVinecop(family_set=[pvc.BicopFamily.tll])  # nonparametric\n",
    "    vine_pvc = pvc.Vinecop.from_data(u_cls, controls=controls)\n",
    "    tvc_mat = (\n",
    "        torch.tensor(\n",
    "            np.array(vine_pvc.matrix, dtype=np.int32),\n",
    "            dtype=torch.int32,\n",
    "            device=DEVICE,\n",
    "        )\n",
    "        - 1\n",
    "    ).rot90(k=3)\n",
    "    vine_tvc = tvc.VineCop(\n",
    "        num_dim=u_cls.shape[1],\n",
    "        is_cop_scale=True,\n",
    "        num_step_grid=128,\n",
    "    ).to(DEVICE)\n",
    "    vine_tvc.fit(\n",
    "        obs=u_cls_tensor,\n",
    "        matrix=tvc_mat,\n",
    "        is_dissmann=False,\n",
    "        is_tll=True,\n",
    "    )\n",
    "\n",
    "    # 4. Store the fitted model\n",
    "    class_vines[cls] = {}\n",
    "    class_vines[cls][\"vine_pvc\"] = vine_pvc\n",
    "    class_vines[cls][\"vine_tvc\"] = vine_tvc\n",
    "\n",
    "    # 5. Compute and display the log-likelihood\n",
    "    loglik_pvc = vine_pvc.loglik()\n",
    "    loglik_tvc = vine_tvc.log_pdf(obs=u_cls_tensor).sum()\n",
    "    print(\n",
    "        f\"Average log-likelihood for class {cls}: {loglik_pvc / len(x_cls):.4f} (pvc), {loglik_tvc / len(x_cls):.4f} (tvc)\"\n",
    "    )\n"
   ]
  },
  {
   "cell_type": "code",
   "execution_count": 91,
   "id": "c3b24468",
   "metadata": {},
   "outputs": [
    {
     "name": "stdout",
     "output_type": "stream",
     "text": [
      "170.12344553656055 tensor(-17.2601, device='cuda:0', dtype=torch.float64)\n"
     ]
    }
   ],
   "source": [
    "bicop_pvc = pvc.Bicop.from_data(\n",
    "    data=u_cls[:, :2],\n",
    "    controls=pvc.FitControlsBicop(family_set=[pvc.BicopFamily.tll]),\n",
    ")\n",
    "\n",
    "\n",
    "bicop_tvc = tvc.BiCop(\n",
    "    num_step_grid=num_step_grid,\n",
    ").to(DEVICE)\n",
    "\n",
    "bicop_tvc.fit(\n",
    "    obs=u_cls_tensor[:, :2],\n",
    "    is_tll=True,\n",
    ")\n",
    "print(bicop_pvc.loglik(), bicop_tvc.log_pdf(obs=u_cls_tensor[:, :2]).sum())"
   ]
  },
  {
   "cell_type": "code",
   "execution_count": 104,
   "id": "cc767fee",
   "metadata": {},
   "outputs": [
    {
     "data": {
      "text/plain": [
       "<Axes: >"
      ]
     },
     "execution_count": 104,
     "metadata": {},
     "output_type": "execute_result"
    },
    {
     "data": {
      "image/png": "[encoded data removed]",
      "text/plain": [
       "<Figure size 640x480 with 1 Axes>"
      ]
     },
     "metadata": {},
     "output_type": "display_data"
    }
   ],
   "source": [
    "sns.scatterplot(\n",
    "    x=np.log(bicop_pvc.pdf(u_cls[:, :2])),\n",
    "    y=bicop_tvc.log_pdf(obs=u_cls_tensor[:, :2]).cpu().numpy().reshape(-1),\n",
    ")"
   ]
  },
  {
   "cell_type": "code",
   "execution_count": 98,
   "id": "1683ccba",
   "metadata": {},
   "outputs": [
    {
     "data": {
      "text/plain": [
       "(np.float64(0.03420656567920946),\n",
       " np.float64(0.2784441159939637),\n",
       " np.float64(4.073814140138394),\n",
       " np.float64(-1.9450782662607686))"
      ]
     },
     "execution_count": 98,
     "metadata": {},
     "output_type": "execute_result"
    }
   ],
   "source": [
    "log_diffs = (\n",
    "    np.log(bicop_pvc.pdf(u_cls[:, :2])) - bicop_tvc.log_pdf(obs=u_cls_tensor[:, :2]).cpu().numpy()\n",
    ")\n",
    "log_diffs.mean(), log_diffs.std(), log_diffs.max(), log_diffs.min()"
   ]
  }
 ],
 "metadata": {
  "kernelspec": {
   "display_name": "torchvinecopulib",
   "language": "python",
   "name": "python3"
  },
  "language_info": {
   "codemirror_mode": {
    "name": "ipython",
    "version": 3
   },
   "file_extension": ".py",
   "mimetype": "text/x-python",
   "name": "python",
   "nbconvert_exporter": "python",
   "pygments_lexer": "ipython3",
   "version": "3.12.10"
  }
 },
 "nbformat": 4,
 "nbformat_minor": 5
}
