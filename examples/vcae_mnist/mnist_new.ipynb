{
 "cells": [
  {
   "cell_type": "code",
   "execution_count": null,
   "id": "e2dfe287",
   "metadata": {},
   "outputs": [
    {
     "name": "stderr",
     "output_type": "stream",
     "text": [
      "Running experiments:   0%|          | 0/1 [00:00<?, ?it/s]Using default `ModelCheckpoint`. Consider installing `litmodels` package to enable `LitModelCheckpoint` for automatic upload to the Lightning model registry.\n",
      "GPU available: True (cuda), used: True\n",
      "TPU available: False, using: 0 TPU cores\n",
      "HPU available: False, using: 0 HPUs\n",
      "You are using a CUDA device ('GRID A100D-16C') that has Tensor Cores. To properly utilize them, you should set `torch.set_float32_matmul_precision('medium' | 'high')` which will trade-off precision for performance. For more details, read https://pytorch.org/docs/stable/generated/torch.set_float32_matmul_precision.html#torch.set_float32_matmul_precision\n",
      "LOCAL_RANK: 0 - CUDA_VISIBLE_DEVICES: [0]\n",
      "`Trainer.fit` stopped: `max_epochs=10` reached.\n",
      "Using default `ModelCheckpoint`. Consider installing `litmodels` package to enable `LitModelCheckpoint` for automatic upload to the Lightning model registry.\n",
      "GPU available: True (cuda), used: True\n",
      "TPU available: False, using: 0 TPU cores\n",
      "HPU available: False, using: 0 HPUs\n",
      "LOCAL_RANK: 0 - CUDA_VISIBLE_DEVICES: [0]\n",
      "`Trainer.fit` stopped: `max_epochs=10` reached.\n"
     ]
    }
   ],
   "source": [
    "import contextlib\n",
    "import io\n",
    "import logging\n",
    "\n",
    "import pandas as pd\n",
    "from tqdm import tqdm\n",
    "from vcae_mnist.config import config\n",
    "from vcae_mnist.experiment import run_experiment\n",
    "\n",
    "results = []\n",
    "\n",
    "\n",
    "@contextlib.contextmanager\n",
    "def suppress_output():\n",
    "    with contextlib.redirect_stdout(io.StringIO()), contextlib.redirect_stderr(io.StringIO()):\n",
    "        logging_level = logging.getLogger().level\n",
    "        logging.getLogger().setLevel(logging.ERROR)\n",
    "        try:\n",
    "            yield\n",
    "        finally:\n",
    "            logging.getLogger().setLevel(logging_level)\n",
    "\n",
    "\n",
    "for seed in tqdm(range(1), desc=\"Running experiments\"):\n",
    "    with suppress_output():\n",
    "        result = run_experiment(seed, config)\n",
    "    results.append(result)\n",
    "\n",
    "\n",
    "df_results = pd.DataFrame(results)\n",
    "df_results.to_csv(\"experiment_results.csv\", index=False)"
   ]
  }
 ],
 "metadata": {
  "kernelspec": {
   "display_name": "torchvinecopulib",
   "language": "python",
   "name": "python3"
  },
  "language_info": {
   "codemirror_mode": {
    "name": "ipython",
    "version": 3
   },
   "file_extension": ".py",
   "mimetype": "text/x-python",
   "name": "python",
   "nbconvert_exporter": "python",
   "pygments_lexer": "ipython3",
   "version": "3.12.10"
  }
 },
 "nbformat": 4,
 "nbformat_minor": 5
}
